{
 "cells": [
  {
   "cell_type": "markdown",
   "id": "2cf8078e",
   "metadata": {},
   "source": [
    "### Import Libraries and Load Data For country comparsion "
   ]
  },
  {
   "cell_type": "markdown",
   "id": "06aab9c1",
   "metadata": {},
   "source": [
    "Importing important libraries and the data"
   ]
  },
  {
   "cell_type": "code",
   "execution_count": 1,
   "id": "c418c5a1",
   "metadata": {},
   "outputs": [],
   "source": [
    "import sys\n",
    "import os\n",
    "sys.path.append(os.path.abspath(\"..\"))\n",
    "\n",
    "import pandas as pd\n",
    "import numpy as np\n",
    "import matplotlib.pyplot as plt\n",
    "import seaborn as sns\n",
    "from windrose import WindroseAxes\n",
    "from scipy import stats\n",
    "import os\n",
    "from scipy.stats import zscore\n",
    "from scipy.stats import f_oneway, kruskal\n",
    "\n",
    "#"
   ]
  },
  {
   "cell_type": "code",
   "execution_count": 16,
   "id": "dab0b06f",
   "metadata": {},
   "outputs": [],
   "source": [
    "# Load dataset\n",
    "benin = pd.read_csv(\"../data/benin_clean.csv\")\n",
    "sierraleone = pd.read_csv(\"../data/sierraleone_clean.csv\")\n",
    "togo = pd.read_csv(\"../data/togo-dapaong_qc_clean.csv\") "
   ]
  },
  {
   "cell_type": "code",
   "execution_count": 17,
   "id": "c5c97f10",
   "metadata": {},
   "outputs": [],
   "source": [
    "# Add a country label to each \n",
    "benin['Country'] = 'Benin'\n",
    "sierraleone['Country'] = 'Sierra Leone'\n",
    "togo['Country'] = 'Togo'"
   ]
  },
  {
   "cell_type": "code",
   "execution_count": 8,
   "id": "546b588d",
   "metadata": {},
   "outputs": [
    {
     "data": {
      "application/vnd.microsoft.datawrangler.viewer.v0+json": {
       "columns": [
        {
         "name": "index",
         "rawType": "int64",
         "type": "integer"
        },
        {
         "name": "Timestamp",
         "rawType": "object",
         "type": "string"
        },
        {
         "name": "GHI",
         "rawType": "float64",
         "type": "float"
        },
        {
         "name": "DNI",
         "rawType": "float64",
         "type": "float"
        },
        {
         "name": "DHI",
         "rawType": "float64",
         "type": "float"
        },
        {
         "name": "ModA",
         "rawType": "float64",
         "type": "float"
        },
        {
         "name": "ModB",
         "rawType": "float64",
         "type": "float"
        },
        {
         "name": "Tamb",
         "rawType": "float64",
         "type": "float"
        },
        {
         "name": "RH",
         "rawType": "float64",
         "type": "float"
        },
        {
         "name": "WS",
         "rawType": "float64",
         "type": "float"
        },
        {
         "name": "WSgust",
         "rawType": "float64",
         "type": "float"
        },
        {
         "name": "WSstdev",
         "rawType": "float64",
         "type": "float"
        },
        {
         "name": "WD",
         "rawType": "float64",
         "type": "float"
        },
        {
         "name": "WDstdev",
         "rawType": "float64",
         "type": "float"
        },
        {
         "name": "BP",
         "rawType": "int64",
         "type": "integer"
        },
        {
         "name": "Cleaning",
         "rawType": "int64",
         "type": "integer"
        },
        {
         "name": "Precipitation",
         "rawType": "float64",
         "type": "float"
        },
        {
         "name": "TModA",
         "rawType": "float64",
         "type": "float"
        },
        {
         "name": "TModB",
         "rawType": "float64",
         "type": "float"
        },
        {
         "name": "Country",
         "rawType": "object",
         "type": "string"
        }
       ],
       "ref": "9c37675f-2602-4a1d-8c7f-ce599b29194b",
       "rows": [
        [
         "0",
         "2021-08-09 00:01:00",
         "-1.2",
         "-0.2",
         "-1.1",
         "0.0",
         "0.0",
         "26.2",
         "93.4",
         "0.0",
         "0.4",
         "0.1",
         "122.1",
         "0.0",
         "998",
         "0",
         "0.0",
         "26.3",
         "26.2",
         "Benin"
        ],
        [
         "1",
         "2021-08-09 00:02:00",
         "-1.1",
         "-0.2",
         "-1.1",
         "0.0",
         "0.0",
         "26.2",
         "93.6",
         "0.0",
         "0.0",
         "0.0",
         "0.0",
         "0.0",
         "998",
         "0",
         "0.0",
         "26.3",
         "26.2",
         "Benin"
        ],
        [
         "2",
         "2021-08-09 00:03:00",
         "-1.1",
         "-0.2",
         "-1.1",
         "0.0",
         "0.0",
         "26.2",
         "93.7",
         "0.3",
         "1.1",
         "0.5",
         "124.6",
         "1.5",
         "997",
         "0",
         "0.0",
         "26.4",
         "26.2",
         "Benin"
        ],
        [
         "3",
         "2021-08-09 00:04:00",
         "-1.1",
         "-0.1",
         "-1.0",
         "0.0",
         "0.0",
         "26.2",
         "93.3",
         "0.2",
         "0.7",
         "0.4",
         "120.3",
         "1.3",
         "997",
         "0",
         "0.0",
         "26.4",
         "26.3",
         "Benin"
        ],
        [
         "4",
         "2021-08-09 00:05:00",
         "-1.0",
         "-0.1",
         "-1.0",
         "0.0",
         "0.0",
         "26.2",
         "93.3",
         "0.1",
         "0.7",
         "0.3",
         "113.2",
         "1.0",
         "997",
         "0",
         "0.0",
         "26.4",
         "26.3",
         "Benin"
        ]
       ],
       "shape": {
        "columns": 19,
        "rows": 5
       }
      },
      "text/html": [
       "<div>\n",
       "<style scoped>\n",
       "    .dataframe tbody tr th:only-of-type {\n",
       "        vertical-align: middle;\n",
       "    }\n",
       "\n",
       "    .dataframe tbody tr th {\n",
       "        vertical-align: top;\n",
       "    }\n",
       "\n",
       "    .dataframe thead th {\n",
       "        text-align: right;\n",
       "    }\n",
       "</style>\n",
       "<table border=\"1\" class=\"dataframe\">\n",
       "  <thead>\n",
       "    <tr style=\"text-align: right;\">\n",
       "      <th></th>\n",
       "      <th>Timestamp</th>\n",
       "      <th>GHI</th>\n",
       "      <th>DNI</th>\n",
       "      <th>DHI</th>\n",
       "      <th>ModA</th>\n",
       "      <th>ModB</th>\n",
       "      <th>Tamb</th>\n",
       "      <th>RH</th>\n",
       "      <th>WS</th>\n",
       "      <th>WSgust</th>\n",
       "      <th>WSstdev</th>\n",
       "      <th>WD</th>\n",
       "      <th>WDstdev</th>\n",
       "      <th>BP</th>\n",
       "      <th>Cleaning</th>\n",
       "      <th>Precipitation</th>\n",
       "      <th>TModA</th>\n",
       "      <th>TModB</th>\n",
       "      <th>Country</th>\n",
       "    </tr>\n",
       "  </thead>\n",
       "  <tbody>\n",
       "    <tr>\n",
       "      <th>0</th>\n",
       "      <td>2021-08-09 00:01:00</td>\n",
       "      <td>-1.2</td>\n",
       "      <td>-0.2</td>\n",
       "      <td>-1.1</td>\n",
       "      <td>0.0</td>\n",
       "      <td>0.0</td>\n",
       "      <td>26.2</td>\n",
       "      <td>93.4</td>\n",
       "      <td>0.0</td>\n",
       "      <td>0.4</td>\n",
       "      <td>0.1</td>\n",
       "      <td>122.1</td>\n",
       "      <td>0.0</td>\n",
       "      <td>998</td>\n",
       "      <td>0</td>\n",
       "      <td>0.0</td>\n",
       "      <td>26.3</td>\n",
       "      <td>26.2</td>\n",
       "      <td>Benin</td>\n",
       "    </tr>\n",
       "    <tr>\n",
       "      <th>1</th>\n",
       "      <td>2021-08-09 00:02:00</td>\n",
       "      <td>-1.1</td>\n",
       "      <td>-0.2</td>\n",
       "      <td>-1.1</td>\n",
       "      <td>0.0</td>\n",
       "      <td>0.0</td>\n",
       "      <td>26.2</td>\n",
       "      <td>93.6</td>\n",
       "      <td>0.0</td>\n",
       "      <td>0.0</td>\n",
       "      <td>0.0</td>\n",
       "      <td>0.0</td>\n",
       "      <td>0.0</td>\n",
       "      <td>998</td>\n",
       "      <td>0</td>\n",
       "      <td>0.0</td>\n",
       "      <td>26.3</td>\n",
       "      <td>26.2</td>\n",
       "      <td>Benin</td>\n",
       "    </tr>\n",
       "    <tr>\n",
       "      <th>2</th>\n",
       "      <td>2021-08-09 00:03:00</td>\n",
       "      <td>-1.1</td>\n",
       "      <td>-0.2</td>\n",
       "      <td>-1.1</td>\n",
       "      <td>0.0</td>\n",
       "      <td>0.0</td>\n",
       "      <td>26.2</td>\n",
       "      <td>93.7</td>\n",
       "      <td>0.3</td>\n",
       "      <td>1.1</td>\n",
       "      <td>0.5</td>\n",
       "      <td>124.6</td>\n",
       "      <td>1.5</td>\n",
       "      <td>997</td>\n",
       "      <td>0</td>\n",
       "      <td>0.0</td>\n",
       "      <td>26.4</td>\n",
       "      <td>26.2</td>\n",
       "      <td>Benin</td>\n",
       "    </tr>\n",
       "    <tr>\n",
       "      <th>3</th>\n",
       "      <td>2021-08-09 00:04:00</td>\n",
       "      <td>-1.1</td>\n",
       "      <td>-0.1</td>\n",
       "      <td>-1.0</td>\n",
       "      <td>0.0</td>\n",
       "      <td>0.0</td>\n",
       "      <td>26.2</td>\n",
       "      <td>93.3</td>\n",
       "      <td>0.2</td>\n",
       "      <td>0.7</td>\n",
       "      <td>0.4</td>\n",
       "      <td>120.3</td>\n",
       "      <td>1.3</td>\n",
       "      <td>997</td>\n",
       "      <td>0</td>\n",
       "      <td>0.0</td>\n",
       "      <td>26.4</td>\n",
       "      <td>26.3</td>\n",
       "      <td>Benin</td>\n",
       "    </tr>\n",
       "    <tr>\n",
       "      <th>4</th>\n",
       "      <td>2021-08-09 00:05:00</td>\n",
       "      <td>-1.0</td>\n",
       "      <td>-0.1</td>\n",
       "      <td>-1.0</td>\n",
       "      <td>0.0</td>\n",
       "      <td>0.0</td>\n",
       "      <td>26.2</td>\n",
       "      <td>93.3</td>\n",
       "      <td>0.1</td>\n",
       "      <td>0.7</td>\n",
       "      <td>0.3</td>\n",
       "      <td>113.2</td>\n",
       "      <td>1.0</td>\n",
       "      <td>997</td>\n",
       "      <td>0</td>\n",
       "      <td>0.0</td>\n",
       "      <td>26.4</td>\n",
       "      <td>26.3</td>\n",
       "      <td>Benin</td>\n",
       "    </tr>\n",
       "  </tbody>\n",
       "</table>\n",
       "</div>"
      ],
      "text/plain": [
       "             Timestamp  GHI  DNI  DHI  ModA  ModB  Tamb    RH   WS  WSgust  \\\n",
       "0  2021-08-09 00:01:00 -1.2 -0.2 -1.1   0.0   0.0  26.2  93.4  0.0     0.4   \n",
       "1  2021-08-09 00:02:00 -1.1 -0.2 -1.1   0.0   0.0  26.2  93.6  0.0     0.0   \n",
       "2  2021-08-09 00:03:00 -1.1 -0.2 -1.1   0.0   0.0  26.2  93.7  0.3     1.1   \n",
       "3  2021-08-09 00:04:00 -1.1 -0.1 -1.0   0.0   0.0  26.2  93.3  0.2     0.7   \n",
       "4  2021-08-09 00:05:00 -1.0 -0.1 -1.0   0.0   0.0  26.2  93.3  0.1     0.7   \n",
       "\n",
       "   WSstdev     WD  WDstdev   BP  Cleaning  Precipitation  TModA  TModB Country  \n",
       "0      0.1  122.1      0.0  998         0            0.0   26.3   26.2   Benin  \n",
       "1      0.0    0.0      0.0  998         0            0.0   26.3   26.2   Benin  \n",
       "2      0.5  124.6      1.5  997         0            0.0   26.4   26.2   Benin  \n",
       "3      0.4  120.3      1.3  997         0            0.0   26.4   26.3   Benin  \n",
       "4      0.3  113.2      1.0  997         0            0.0   26.4   26.3   Benin  "
      ]
     },
     "execution_count": 8,
     "metadata": {},
     "output_type": "execute_result"
    }
   ],
   "source": [
    "# Combine them\n",
    "df = pd.concat([benin, sierraleone, togo], ignore_index=True)\n",
    "df.head()"
   ]
  },
  {
   "cell_type": "markdown",
   "id": "a8342021",
   "metadata": {},
   "source": [
    "### 1.Boxplots: GHI, DNI, DHI by Country"
   ]
  },
  {
   "cell_type": "code",
   "execution_count": 17,
   "id": "35ecfd03",
   "metadata": {},
   "outputs": [
    {
     "name": "stderr",
     "output_type": "stream",
     "text": [
      "C:\\Users\\ssss\\AppData\\Local\\Temp\\ipykernel_13116\\1142924164.py:7: FutureWarning: \n",
      "\n",
      "Passing `palette` without assigning `hue` is deprecated and will be removed in v0.14.0. Assign the `x` variable to `hue` and set `legend=False` for the same effect.\n",
      "\n",
      "  sns.boxplot(data=df, x='Country', y=metric, palette='Set2')\n"
     ]
    },
    {
     "data": {
      "image/png": "[encoded data removed]",
      "text/plain": [
       "<Figure size 800x600 with 1 Axes>"
      ]
     },
     "metadata": {},
     "output_type": "display_data"
    },
    {
     "name": "stderr",
     "output_type": "stream",
     "text": [
      "C:\\Users\\ssss\\AppData\\Local\\Temp\\ipykernel_13116\\1142924164.py:7: FutureWarning: \n",
      "\n",
      "Passing `palette` without assigning `hue` is deprecated and will be removed in v0.14.0. Assign the `x` variable to `hue` and set `legend=False` for the same effect.\n",
      "\n",
      "  sns.boxplot(data=df, x='Country', y=metric, palette='Set2')\n"
     ]
    },
    {
     "data": {
      "image/png": "[encoded data removed]",
      "text/plain": [
       "<Figure size 800x600 with 1 Axes>"
      ]
     },
     "metadata": {},
     "output_type": "display_data"
    },
    {
     "name": "stderr",
     "output_type": "stream",
     "text": [
      "C:\\Users\\ssss\\AppData\\Local\\Temp\\ipykernel_13116\\1142924164.py:7: FutureWarning: \n",
      "\n",
      "Passing `palette` without assigning `hue` is deprecated and will be removed in v0.14.0. Assign the `x` variable to `hue` and set `legend=False` for the same effect.\n",
      "\n",
      "  sns.boxplot(data=df, x='Country', y=metric, palette='Set2')\n"
     ]
    },
    {
     "data": {
      "image/png": "[encoded data removed]",
      "text/plain": [
       "<Figure size 800x600 with 1 Axes>"
      ]
     },
     "metadata": {},
     "output_type": "display_data"
    }
   ],
   "source": [
    "# Boxplots of GHI, DNI, DHI side-by-side (one plot per metric, colored by country)\n",
    "# Create a new column 'country' to identify the source of each row\n",
    "metrics = ['GHI', 'DNI', 'DHI']\n",
    "\n",
    "for metric in ['GHI', 'DNI', 'DHI']:\n",
    "    plt.figure(figsize=(8, 6))\n",
    "    sns.boxplot(data=df, x='Country', y=metric, palette='Set2')\n",
    "    plt.title(f'{metric} Comparison Across Countries')\n",
    "    plt.ylabel(f'{metric} (W/m²)')\n",
    "    plt.xlabel('Country')\n",
    "    plt.grid(True)\n",
    "    plt.tight_layout()\n",
    "    plt.show()\n",
    "\n"
   ]
  },
  {
   "cell_type": "code",
   "execution_count": 18,
   "id": "d4c23278",
   "metadata": {},
   "outputs": [
    {
     "name": "stderr",
     "output_type": "stream",
     "text": [
      "C:\\Users\\ssss\\AppData\\Local\\Temp\\ipykernel_13116\\1696683609.py:6: FutureWarning: \n",
      "\n",
      "Passing `palette` without assigning `hue` is deprecated and will be removed in v0.14.0. Assign the `x` variable to `hue` and set `legend=False` for the same effect.\n",
      "\n",
      "  sns.boxplot(data=df, x='Country', y=metric, palette='Set2', ax=ax)\n",
      "C:\\Users\\ssss\\AppData\\Local\\Temp\\ipykernel_13116\\1696683609.py:6: FutureWarning: \n",
      "\n",
      "Passing `palette` without assigning `hue` is deprecated and will be removed in v0.14.0. Assign the `x` variable to `hue` and set `legend=False` for the same effect.\n",
      "\n",
      "  sns.boxplot(data=df, x='Country', y=metric, palette='Set2', ax=ax)\n",
      "C:\\Users\\ssss\\AppData\\Local\\Temp\\ipykernel_13116\\1696683609.py:6: FutureWarning: \n",
      "\n",
      "Passing `palette` without assigning `hue` is deprecated and will be removed in v0.14.0. Assign the `x` variable to `hue` and set `legend=False` for the same effect.\n",
      "\n",
      "  sns.boxplot(data=df, x='Country', y=metric, palette='Set2', ax=ax)\n"
     ]
    },
    {
     "data": {
      "image/png": "[encoded data removed]",
      "text/plain": [
       "<Figure size 800x1800 with 3 Axes>"
      ]
     },
     "metadata": {},
     "output_type": "display_data"
    }
   ],
   "source": [
    "metrics = ['GHI', 'DNI', 'DHI']\n",
    "\n",
    "fig, axes = plt.subplots(nrows=3, ncols=1, figsize=(8, 18))  # 3 rows, 1 col\n",
    "\n",
    "for ax, metric in zip(axes, metrics):\n",
    "    sns.boxplot(data=df, x='Country', y=metric, palette='Set2', ax=ax)\n",
    "    ax.set_title(f'{metric} Comparison Across Countries')\n",
    "    ax.set_ylabel(f'{metric} (W/m²)')\n",
    "    ax.set_xlabel('Country')\n",
    "    ax.grid(True)\n",
    "\n",
    "plt.tight_layout()\n",
    "plt.show()\n"
   ]
  },
  {
   "cell_type": "markdown",
   "id": "2931fd01",
   "metadata": {},
   "source": [
    "### 2. Summary Table (Mean, Median, SD)"
   ]
  },
  {
   "cell_type": "code",
   "execution_count": 8,
   "id": "790e301c",
   "metadata": {},
   "outputs": [
    {
     "data": {
      "application/vnd.microsoft.datawrangler.viewer.v0+json": {
       "columns": [
        {
         "name": "Country",
         "rawType": "object",
         "type": "string"
        },
        {
         "name": "('GHI', 'mean')",
         "rawType": "float64",
         "type": "float"
        },
        {
         "name": "('GHI', 'median')",
         "rawType": "float64",
         "type": "float"
        },
        {
         "name": "('GHI', 'std')",
         "rawType": "float64",
         "type": "float"
        },
        {
         "name": "('DNI', 'mean')",
         "rawType": "float64",
         "type": "float"
        },
        {
         "name": "('DNI', 'median')",
         "rawType": "float64",
         "type": "float"
        },
        {
         "name": "('DNI', 'std')",
         "rawType": "float64",
         "type": "float"
        },
        {
         "name": "('DHI', 'mean')",
         "rawType": "float64",
         "type": "float"
        },
        {
         "name": "('DHI', 'median')",
         "rawType": "float64",
         "type": "float"
        },
        {
         "name": "('DHI', 'std')",
         "rawType": "float64",
         "type": "float"
        }
       ],
       "ref": "c6b00127-3e31-4b91-a8f7-df2344d0b00b",
       "rows": [
        [
         "Benin",
         "240.34",
         "1.8",
         "330.87",
         "167.19",
         "-0.1",
         "261.71",
         "110.91",
         "1.6",
         "152.92"
        ],
        [
         "Sierra Leone",
         "196.44",
         "0.3",
         "291.24",
         "104.53",
         "-0.1",
         "201.7",
         "110.11",
         "-0.1",
         "154.17"
        ],
        [
         "Togo",
         "229.83",
         "2.1",
         "321.64",
         "149.37",
         "0.0",
         "248.55",
         "112.41",
         "2.5",
         "151.29"
        ]
       ],
       "shape": {
        "columns": 9,
        "rows": 3
       }
      },
      "text/html": [
       "<div>\n",
       "<style scoped>\n",
       "    .dataframe tbody tr th:only-of-type {\n",
       "        vertical-align: middle;\n",
       "    }\n",
       "\n",
       "    .dataframe tbody tr th {\n",
       "        vertical-align: top;\n",
       "    }\n",
       "\n",
       "    .dataframe thead tr th {\n",
       "        text-align: left;\n",
       "    }\n",
       "\n",
       "    .dataframe thead tr:last-of-type th {\n",
       "        text-align: right;\n",
       "    }\n",
       "</style>\n",
       "<table border=\"1\" class=\"dataframe\">\n",
       "  <thead>\n",
       "    <tr>\n",
       "      <th></th>\n",
       "      <th colspan=\"3\" halign=\"left\">GHI</th>\n",
       "      <th colspan=\"3\" halign=\"left\">DNI</th>\n",
       "      <th colspan=\"3\" halign=\"left\">DHI</th>\n",
       "    </tr>\n",
       "    <tr>\n",
       "      <th></th>\n",
       "      <th>mean</th>\n",
       "      <th>median</th>\n",
       "      <th>std</th>\n",
       "      <th>mean</th>\n",
       "      <th>median</th>\n",
       "      <th>std</th>\n",
       "      <th>mean</th>\n",
       "      <th>median</th>\n",
       "      <th>std</th>\n",
       "    </tr>\n",
       "    <tr>\n",
       "      <th>Country</th>\n",
       "      <th></th>\n",
       "      <th></th>\n",
       "      <th></th>\n",
       "      <th></th>\n",
       "      <th></th>\n",
       "      <th></th>\n",
       "      <th></th>\n",
       "      <th></th>\n",
       "      <th></th>\n",
       "    </tr>\n",
       "  </thead>\n",
       "  <tbody>\n",
       "    <tr>\n",
       "      <th>Benin</th>\n",
       "      <td>240.34</td>\n",
       "      <td>1.8</td>\n",
       "      <td>330.87</td>\n",
       "      <td>167.19</td>\n",
       "      <td>-0.1</td>\n",
       "      <td>261.71</td>\n",
       "      <td>110.91</td>\n",
       "      <td>1.6</td>\n",
       "      <td>152.92</td>\n",
       "    </tr>\n",
       "    <tr>\n",
       "      <th>Sierra Leone</th>\n",
       "      <td>196.44</td>\n",
       "      <td>0.3</td>\n",
       "      <td>291.24</td>\n",
       "      <td>104.53</td>\n",
       "      <td>-0.1</td>\n",
       "      <td>201.70</td>\n",
       "      <td>110.11</td>\n",
       "      <td>-0.1</td>\n",
       "      <td>154.17</td>\n",
       "    </tr>\n",
       "    <tr>\n",
       "      <th>Togo</th>\n",
       "      <td>229.83</td>\n",
       "      <td>2.1</td>\n",
       "      <td>321.64</td>\n",
       "      <td>149.37</td>\n",
       "      <td>0.0</td>\n",
       "      <td>248.55</td>\n",
       "      <td>112.41</td>\n",
       "      <td>2.5</td>\n",
       "      <td>151.29</td>\n",
       "    </tr>\n",
       "  </tbody>\n",
       "</table>\n",
       "</div>"
      ],
      "text/plain": [
       "                 GHI                    DNI                    DHI         \\\n",
       "                mean median     std    mean median     std    mean median   \n",
       "Country                                                                     \n",
       "Benin         240.34    1.8  330.87  167.19   -0.1  261.71  110.91    1.6   \n",
       "Sierra Leone  196.44    0.3  291.24  104.53   -0.1  201.70  110.11   -0.1   \n",
       "Togo          229.83    2.1  321.64  149.37    0.0  248.55  112.41    2.5   \n",
       "\n",
       "                      \n",
       "                 std  \n",
       "Country               \n",
       "Benin         152.92  \n",
       "Sierra Leone  154.17  \n",
       "Togo          151.29  "
      ]
     },
     "execution_count": 8,
     "metadata": {},
     "output_type": "execute_result"
    }
   ],
   "source": [
    "# Summary table: mean, median, std of GHI, DNI, DHI by country\n",
    "summary = df.groupby('Country')[['GHI', 'DNI', 'DHI']].agg(['mean', 'median', 'std']).round(2)\n",
    "summary\n"
   ]
  },
  {
   "cell_type": "code",
   "execution_count": 9,
   "id": "25d2ce2e",
   "metadata": {},
   "outputs": [
    {
     "name": "stdout",
     "output_type": "stream",
     "text": [
      "{'Benin': {'GHI_mean': 240.34, 'GHI_median': 1.8, 'GHI_std': 330.87, 'DNI_mean': 167.19, 'DNI_median': -0.1, 'DNI_std': 261.71, 'DHI_mean': 110.91, 'DHI_median': 1.6, 'DHI_std': 152.92}, 'Sierra Leone': {'GHI_mean': 196.44, 'GHI_median': 0.3, 'GHI_std': 291.24, 'DNI_mean': 104.53, 'DNI_median': -0.1, 'DNI_std': 201.7, 'DHI_mean': 110.11, 'DHI_median': -0.1, 'DHI_std': 154.17}, 'Togo': {'GHI_mean': 229.83, 'GHI_median': 2.1, 'GHI_std': 321.64, 'DNI_mean': 149.37, 'DNI_median': 0.0, 'DNI_std': 248.55, 'DHI_mean': 112.41, 'DHI_median': 2.5, 'DHI_std': 151.29}}\n"
     ]
    }
   ],
   "source": [
    "# Step 1: Your existing summary table\n",
    "summary = df.groupby('Country')[['GHI', 'DNI', 'DHI']].agg(['mean', 'median', 'std']).round(2)\n",
    "\n",
    "# Step 2: Convert MultiIndex columns to flat strings\n",
    "summary.columns = ['_'.join(col) for col in summary.columns]\n",
    "\n",
    "# Step 3: Convert to JSON\n",
    "summary_json = summary.to_json(orient='index')\n",
    "\n",
    "# Step 4 (Optional): Save to a JSON file\n",
    "with open(\"summary_stats.json\", \"w\") as f:\n",
    "    f.write(summary_json)\n",
    "\n",
    "# To print or return the JSON as a Python dict\n",
    "import json\n",
    "summary_dict = json.loads(summary_json)\n",
    "print(summary_dict)"
   ]
  },
  {
   "cell_type": "markdown",
   "id": "3d3a7bc6",
   "metadata": {},
   "source": [
    "### 2.1 ANOVA (Analysis of Variance)"
   ]
  },
  {
   "cell_type": "code",
   "execution_count": 22,
   "id": "fa4ea99b",
   "metadata": {},
   "outputs": [
    {
     "name": "stdout",
     "output_type": "stream",
     "text": [
      "ANOvA f-stat:2782.6224\n",
      "ANOVA p-value: 0.0000\n"
     ]
    }
   ],
   "source": [
    "f_stat, p_value_anova = f_oneway(benin['GHI'], sierraleone['GHI'], togo['GHI'])\n",
    "print(f\"ANOvA f-stat:{f_stat:.4f}\")\n",
    "print(f\"ANOVA p-value: {p_value_anova:.4f}\")\n",
    "# There is a statistically significant difference in average GHI between at least two of the countries.\n",
    "# This means:\n",
    "# It’s highly unlikely the differences are due to randomness.\n",
    "#At least one country has a genuinely different solar potential."
   ]
  },
  {
   "cell_type": "code",
   "execution_count": 23,
   "id": "82ecf478",
   "metadata": {},
   "outputs": [
    {
     "name": "stdout",
     "output_type": "stream",
     "text": [
      "       Multiple Comparison of Means - Tukey HSD, FWER=0.05       \n",
      "=================================================================\n",
      "   group1       group2    meandiff p-adj  lower    upper   reject\n",
      "-----------------------------------------------------------------\n",
      "       Benin Sierra Leone -43.9008   0.0 -45.3411 -42.4605   True\n",
      "       Benin         Togo -10.5109   0.0 -11.9512  -9.0706   True\n",
      "Sierra Leone         Togo  33.3899   0.0  31.9496  34.8302   True\n",
      "-----------------------------------------------------------------\n"
     ]
    }
   ],
   "source": [
    "#ANOVA tells us that a difference exists, but not where.\n",
    "#Use Tukey’s Honest Significant Difference (HSD) to find which countries differ from each other.\n",
    "\n",
    "from statsmodels.stats.multicomp import pairwise_tukeyhsd\n",
    "\n",
    "tukey = pairwise_tukeyhsd(endog=df['GHI'], groups=df['Country'], alpha=0.05)\n",
    "print(tukey)"
   ]
  },
  {
   "cell_type": "code",
   "execution_count": 24,
   "id": "69e68fec",
   "metadata": {},
   "outputs": [
    {
     "data": {
      "image/png": "[encoded data removed]",
      "text/plain": [
       "<Figure size 1000x600 with 1 Axes>"
      ]
     },
     "metadata": {},
     "output_type": "display_data"
    }
   ],
   "source": [
    "import statsmodels.api as sm\n",
    "from statsmodels.stats.multicomp import pairwise_tukeyhsd\n",
    "\n",
    "# Run Tukey again for plotting\n",
    "tukey_result = pairwise_tukeyhsd(endog=df['GHI'], groups=df['Country'], alpha=0.05)\n",
    "tukey_result.plot_simultaneous()\n",
    "plt.title(\"Tukey HSD: GHI Differences Between Countries\")\n",
    "plt.show()\n"
   ]
  },
  {
   "cell_type": "markdown",
   "id": "6ae06e1b",
   "metadata": {},
   "source": [
    "### Key Observations\n",
    "\n",
    "- **Benin** shows the **highest average GHI (240.34 W/m²)** but also the **greatest variability** (`GHI_std = 330.87`), suggesting strong but inconsistent solar potential.\n",
    "- **Togo** has the **highest median GHI (2.1)** and **highest median DHI (2.5)**, indicating **more consistent and reliable daylight conditions** — ideal for stable solar generation.\n",
    "- **Sierra Leone** reports the **lowest mean and median GHI and DNI**, along with the **least variability**, which may indicate **limited solar intensity** but **predictable patterns**.\n",
    "\n",
    "###  Investment Recommendation\n",
    "\n",
    "Based on the analysis:\n",
    "\n",
    "- **Togo** is the **most attractive for solar farm investment**, due to:\n",
    "  - **High median solar irradiance**, indicating consistent daily sunlight\n",
    "  - **Moderate variability**, which ensures system stability and predictable returns\n",
    "- **Benin**, while having the highest average GHI, may require **additional storage** or **load balancing** infrastructure due to its higher day-to-day variability\n",
    "- **Sierra Leone** appears **least suitable** for large-scale solar investment based on low intensity, unless targeting **low-power off-grid or microgrid solutions**\n"
   ]
  },
  {
   "cell_type": "markdown",
   "id": "e271f3b0",
   "metadata": {},
   "source": [
    "### 3. Visual Summary"
   ]
  },
  {
   "cell_type": "code",
   "execution_count": 38,
   "id": "8f587b4d",
   "metadata": {},
   "outputs": [
    {
     "name": "stderr",
     "output_type": "stream",
     "text": [
      "C:\\Users\\ssss\\AppData\\Local\\Temp\\ipykernel_13116\\2812227994.py:13: FutureWarning: \n",
      "\n",
      "Passing `palette` without assigning `hue` is deprecated and will be removed in v0.14.0. Assign the `y` variable to `hue` and set `legend=False` for the same effect.\n",
      "\n",
      "  sns.barplot(data=ghi_df, x='GHI_mean', y='Country', palette='viridis')\n"
     ]
    },
    {
     "data": {
      "image/png": "[encoded data removed]",
      "text/plain": [
       "<Figure size 600x400 with 1 Axes>"
      ]
     },
     "metadata": {},
     "output_type": "display_data"
    }
   ],
   "source": [
    "avg_ghi = {\n",
    "    'Benin': 240.34,\n",
    "    'Sierra Leone': 196.44,\n",
    "    'Togo': 229.83\n",
    "}\n",
    "\n",
    "# Convert to DataFrame\n",
    "ghi_df = pd.DataFrame(list(avg_ghi.items()), columns=['Country', 'GHI_mean'])\n",
    "ghi_df = ghi_df.sort_values('GHI_mean', ascending=False)\n",
    "\n",
    "# Plot ranked bar chart\n",
    "plt.figure(figsize=(6, 4))\n",
    "sns.barplot(data=ghi_df, x='GHI_mean', y='Country', palette='viridis')\n",
    "\n",
    "plt.title('Average GHI by Country')\n",
    "plt.xlabel('Average GHI (W/m²)')\n",
    "plt.ylabel('Country')\n",
    "plt.tight_layout()\n",
    "plt.show()"
   ]
  },
  {
   "cell_type": "code",
   "execution_count": 6,
   "id": "c6fdc870",
   "metadata": {},
   "outputs": [
    {
     "data": {
      "application/vnd.microsoft.datawrangler.viewer.v0+json": {
       "columns": [
        {
         "name": "index",
         "rawType": "int64",
         "type": "integer"
        },
        {
         "name": "GHI",
         "rawType": "float64",
         "type": "float"
        },
        {
         "name": "DNI",
         "rawType": "float64",
         "type": "float"
        },
        {
         "name": "DHI",
         "rawType": "float64",
         "type": "float"
        },
        {
         "name": "ModA",
         "rawType": "float64",
         "type": "float"
        },
        {
         "name": "ModB",
         "rawType": "float64",
         "type": "float"
        },
        {
         "name": "Tamb",
         "rawType": "float64",
         "type": "float"
        },
        {
         "name": "RH",
         "rawType": "float64",
         "type": "float"
        },
        {
         "name": "WS",
         "rawType": "float64",
         "type": "float"
        },
        {
         "name": "WSgust",
         "rawType": "float64",
         "type": "float"
        },
        {
         "name": "WSstdev",
         "rawType": "float64",
         "type": "float"
        },
        {
         "name": "WD",
         "rawType": "float64",
         "type": "float"
        },
        {
         "name": "WDstdev",
         "rawType": "float64",
         "type": "float"
        },
        {
         "name": "BP",
         "rawType": "int64",
         "type": "integer"
        },
        {
         "name": "Cleaning",
         "rawType": "int64",
         "type": "integer"
        },
        {
         "name": "Precipitation",
         "rawType": "float64",
         "type": "float"
        },
        {
         "name": "TModA",
         "rawType": "float64",
         "type": "float"
        },
        {
         "name": "TModB",
         "rawType": "float64",
         "type": "float"
        },
        {
         "name": "Country",
         "rawType": "object",
         "type": "string"
        },
        {
         "name": "Hour",
         "rawType": "int64",
         "type": "integer"
        },
        {
         "name": "Month",
         "rawType": "int64",
         "type": "integer"
        },
        {
         "name": "Quarter",
         "rawType": "int64",
         "type": "integer"
        }
       ],
       "ref": "37f47219-c4e8-4487-b3a5-84113bf9aca6",
       "rows": [
        [
         "0",
         "-1.2",
         "-0.2",
         "-1.1",
         "0.0",
         "0.0",
         "26.2",
         "93.4",
         "0.0",
         "0.4",
         "0.1",
         "122.1",
         "0.0",
         "998",
         "0",
         "0.0",
         "26.3",
         "26.2",
         "Benin",
         "0",
         "8",
         "3"
        ],
        [
         "1",
         "-1.1",
         "-0.2",
         "-1.1",
         "0.0",
         "0.0",
         "26.2",
         "93.6",
         "0.0",
         "0.0",
         "0.0",
         "0.0",
         "0.0",
         "998",
         "0",
         "0.0",
         "26.3",
         "26.2",
         "Benin",
         "0",
         "8",
         "3"
        ],
        [
         "2",
         "-1.1",
         "-0.2",
         "-1.1",
         "0.0",
         "0.0",
         "26.2",
         "93.7",
         "0.3",
         "1.1",
         "0.5",
         "124.6",
         "1.5",
         "997",
         "0",
         "0.0",
         "26.4",
         "26.2",
         "Benin",
         "0",
         "8",
         "3"
        ],
        [
         "3",
         "-1.1",
         "-0.1",
         "-1.0",
         "0.0",
         "0.0",
         "26.2",
         "93.3",
         "0.2",
         "0.7",
         "0.4",
         "120.3",
         "1.3",
         "997",
         "0",
         "0.0",
         "26.4",
         "26.3",
         "Benin",
         "0",
         "8",
         "3"
        ],
        [
         "4",
         "-1.0",
         "-0.1",
         "-1.0",
         "0.0",
         "0.0",
         "26.2",
         "93.3",
         "0.1",
         "0.7",
         "0.3",
         "113.2",
         "1.0",
         "997",
         "0",
         "0.0",
         "26.4",
         "26.3",
         "Benin",
         "0",
         "8",
         "3"
        ]
       ],
       "shape": {
        "columns": 21,
        "rows": 5
       }
      },
      "text/html": [
       "<div>\n",
       "<style scoped>\n",
       "    .dataframe tbody tr th:only-of-type {\n",
       "        vertical-align: middle;\n",
       "    }\n",
       "\n",
       "    .dataframe tbody tr th {\n",
       "        vertical-align: top;\n",
       "    }\n",
       "\n",
       "    .dataframe thead th {\n",
       "        text-align: right;\n",
       "    }\n",
       "</style>\n",
       "<table border=\"1\" class=\"dataframe\">\n",
       "  <thead>\n",
       "    <tr style=\"text-align: right;\">\n",
       "      <th></th>\n",
       "      <th>GHI</th>\n",
       "      <th>DNI</th>\n",
       "      <th>DHI</th>\n",
       "      <th>ModA</th>\n",
       "      <th>ModB</th>\n",
       "      <th>Tamb</th>\n",
       "      <th>RH</th>\n",
       "      <th>WS</th>\n",
       "      <th>WSgust</th>\n",
       "      <th>WSstdev</th>\n",
       "      <th>...</th>\n",
       "      <th>WDstdev</th>\n",
       "      <th>BP</th>\n",
       "      <th>Cleaning</th>\n",
       "      <th>Precipitation</th>\n",
       "      <th>TModA</th>\n",
       "      <th>TModB</th>\n",
       "      <th>Country</th>\n",
       "      <th>Hour</th>\n",
       "      <th>Month</th>\n",
       "      <th>Quarter</th>\n",
       "    </tr>\n",
       "  </thead>\n",
       "  <tbody>\n",
       "    <tr>\n",
       "      <th>0</th>\n",
       "      <td>-1.2</td>\n",
       "      <td>-0.2</td>\n",
       "      <td>-1.1</td>\n",
       "      <td>0.0</td>\n",
       "      <td>0.0</td>\n",
       "      <td>26.2</td>\n",
       "      <td>93.4</td>\n",
       "      <td>0.0</td>\n",
       "      <td>0.4</td>\n",
       "      <td>0.1</td>\n",
       "      <td>...</td>\n",
       "      <td>0.0</td>\n",
       "      <td>998</td>\n",
       "      <td>0</td>\n",
       "      <td>0.0</td>\n",
       "      <td>26.3</td>\n",
       "      <td>26.2</td>\n",
       "      <td>Benin</td>\n",
       "      <td>0</td>\n",
       "      <td>8</td>\n",
       "      <td>3</td>\n",
       "    </tr>\n",
       "    <tr>\n",
       "      <th>1</th>\n",
       "      <td>-1.1</td>\n",
       "      <td>-0.2</td>\n",
       "      <td>-1.1</td>\n",
       "      <td>0.0</td>\n",
       "      <td>0.0</td>\n",
       "      <td>26.2</td>\n",
       "      <td>93.6</td>\n",
       "      <td>0.0</td>\n",
       "      <td>0.0</td>\n",
       "      <td>0.0</td>\n",
       "      <td>...</td>\n",
       "      <td>0.0</td>\n",
       "      <td>998</td>\n",
       "      <td>0</td>\n",
       "      <td>0.0</td>\n",
       "      <td>26.3</td>\n",
       "      <td>26.2</td>\n",
       "      <td>Benin</td>\n",
       "      <td>0</td>\n",
       "      <td>8</td>\n",
       "      <td>3</td>\n",
       "    </tr>\n",
       "    <tr>\n",
       "      <th>2</th>\n",
       "      <td>-1.1</td>\n",
       "      <td>-0.2</td>\n",
       "      <td>-1.1</td>\n",
       "      <td>0.0</td>\n",
       "      <td>0.0</td>\n",
       "      <td>26.2</td>\n",
       "      <td>93.7</td>\n",
       "      <td>0.3</td>\n",
       "      <td>1.1</td>\n",
       "      <td>0.5</td>\n",
       "      <td>...</td>\n",
       "      <td>1.5</td>\n",
       "      <td>997</td>\n",
       "      <td>0</td>\n",
       "      <td>0.0</td>\n",
       "      <td>26.4</td>\n",
       "      <td>26.2</td>\n",
       "      <td>Benin</td>\n",
       "      <td>0</td>\n",
       "      <td>8</td>\n",
       "      <td>3</td>\n",
       "    </tr>\n",
       "    <tr>\n",
       "      <th>3</th>\n",
       "      <td>-1.1</td>\n",
       "      <td>-0.1</td>\n",
       "      <td>-1.0</td>\n",
       "      <td>0.0</td>\n",
       "      <td>0.0</td>\n",
       "      <td>26.2</td>\n",
       "      <td>93.3</td>\n",
       "      <td>0.2</td>\n",
       "      <td>0.7</td>\n",
       "      <td>0.4</td>\n",
       "      <td>...</td>\n",
       "      <td>1.3</td>\n",
       "      <td>997</td>\n",
       "      <td>0</td>\n",
       "      <td>0.0</td>\n",
       "      <td>26.4</td>\n",
       "      <td>26.3</td>\n",
       "      <td>Benin</td>\n",
       "      <td>0</td>\n",
       "      <td>8</td>\n",
       "      <td>3</td>\n",
       "    </tr>\n",
       "    <tr>\n",
       "      <th>4</th>\n",
       "      <td>-1.0</td>\n",
       "      <td>-0.1</td>\n",
       "      <td>-1.0</td>\n",
       "      <td>0.0</td>\n",
       "      <td>0.0</td>\n",
       "      <td>26.2</td>\n",
       "      <td>93.3</td>\n",
       "      <td>0.1</td>\n",
       "      <td>0.7</td>\n",
       "      <td>0.3</td>\n",
       "      <td>...</td>\n",
       "      <td>1.0</td>\n",
       "      <td>997</td>\n",
       "      <td>0</td>\n",
       "      <td>0.0</td>\n",
       "      <td>26.4</td>\n",
       "      <td>26.3</td>\n",
       "      <td>Benin</td>\n",
       "      <td>0</td>\n",
       "      <td>8</td>\n",
       "      <td>3</td>\n",
       "    </tr>\n",
       "  </tbody>\n",
       "</table>\n",
       "<p>5 rows × 21 columns</p>\n",
       "</div>"
      ],
      "text/plain": [
       "   GHI  DNI  DHI  ModA  ModB  Tamb    RH   WS  WSgust  WSstdev  ...  WDstdev  \\\n",
       "0 -1.2 -0.2 -1.1   0.0   0.0  26.2  93.4  0.0     0.4      0.1  ...      0.0   \n",
       "1 -1.1 -0.2 -1.1   0.0   0.0  26.2  93.6  0.0     0.0      0.0  ...      0.0   \n",
       "2 -1.1 -0.2 -1.1   0.0   0.0  26.2  93.7  0.3     1.1      0.5  ...      1.5   \n",
       "3 -1.1 -0.1 -1.0   0.0   0.0  26.2  93.3  0.2     0.7      0.4  ...      1.3   \n",
       "4 -1.0 -0.1 -1.0   0.0   0.0  26.2  93.3  0.1     0.7      0.3  ...      1.0   \n",
       "\n",
       "    BP  Cleaning  Precipitation  TModA  TModB  Country Hour  Month  Quarter  \n",
       "0  998         0            0.0   26.3   26.2    Benin    0      8        3  \n",
       "1  998         0            0.0   26.3   26.2    Benin    0      8        3  \n",
       "2  997         0            0.0   26.4   26.2    Benin    0      8        3  \n",
       "3  997         0            0.0   26.4   26.3    Benin    0      8        3  \n",
       "4  997         0            0.0   26.4   26.3    Benin    0      8        3  \n",
       "\n",
       "[5 rows x 21 columns]"
      ]
     },
     "execution_count": 6,
     "metadata": {},
     "output_type": "execute_result"
    }
   ],
   "source": [
    "df.head()"
   ]
  },
  {
   "cell_type": "code",
   "execution_count": 39,
   "id": "2ad563af",
   "metadata": {},
   "outputs": [],
   "source": [
    "#  Data Export\n",
    "\n",
    "df.to_csv(\"../data/combined_cleaned.csv\", index=False)"
   ]
  }
 ],
 "metadata": {
  "kernelspec": {
   "display_name": "venv",
   "language": "python",
   "name": "python3"
  },
  "language_info": {
   "codemirror_mode": {
    "name": "ipython",
    "version": 3
   },
   "file_extension": ".py",
   "mimetype": "text/x-python",
   "name": "python",
   "nbconvert_exporter": "python",
   "pygments_lexer": "ipython3",
   "version": "3.11.0"
  }
 },
 "nbformat": 4,
 "nbformat_minor": 5
}
